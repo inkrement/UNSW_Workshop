{
 "cells": [
  {
   "cell_type": "markdown",
   "id": "f97f69cd-b409-417a-a28f-606df17c0593",
   "metadata": {},
   "source": [
    "## Load random subset"
   ]
  },
  {
   "cell_type": "code",
   "execution_count": 1,
   "id": "459e1bd4-6dc3-4fbb-bf26-7862bf2757c7",
   "metadata": {},
   "outputs": [],
   "source": [
    "%%bash\n",
    "zcat ../nade/data/apps/nike/c0*res.jsonl.gz| \\\n",
    "    awk 'NR % 5 == 0' | \\\n",
    "    pigz -c > ./data/nike_tweets_rnd.jsonl.gz"
   ]
  }
 ],
 "metadata": {
  "kernelspec": {
   "display_name": "Python 3 (ipykernel)",
   "language": "python",
   "name": "python3"
  },
  "language_info": {
   "codemirror_mode": {
    "name": "ipython",
    "version": 3
   },
   "file_extension": ".py",
   "mimetype": "text/x-python",
   "name": "python",
   "nbconvert_exporter": "python",
   "pygments_lexer": "ipython3",
   "version": "3.9.7"
  }
 },
 "nbformat": 4,
 "nbformat_minor": 5
}
