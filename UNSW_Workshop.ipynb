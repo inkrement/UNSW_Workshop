{
 "cells": [
  {
   "cell_type": "markdown",
   "metadata": {},
   "source": [
    "# UNSW Workshop on Sentiment Analysis\n",
    "\n",
    "May, 2022 by Christian Hotz-Behofsits\n",
    "\n",
    "Topics:\n",
    "\n",
    " - Online/offline processing\n",
    " - Sentiment Analysis (Classification/Positivity)\n",
    " - Workflow: (1) always save intermediate results (2) use code versioning (e.g., GitHub) and (3) comment your own code"
   ]
  },
  {
   "cell_type": "markdown",
   "metadata": {
    "id": "E0bDGnCk3_CG"
   },
   "source": [
    "## Filter Tweets\n",
    "\n",
    "Online algorithm (= process tweets chunkwise) to filter Tweets. Such an procedure can be scaled to medium-sized data sets spanning billions of rows."
   ]
  },
  {
   "cell_type": "code",
   "execution_count": 3,
   "metadata": {
    "id": "38uPwMXwlia5"
   },
   "outputs": [],
   "source": [
    "import json\n",
    "import gzip\n",
    "\n",
    "with gzip.open('./data/nike_tweets_rnd_filtered.jsonl.gz', 'wt') as of:\n",
    "    with gzip.open('./data/nike_tweets_rnd.jsonl.gz', 'rt') as f:\n",
    "    for l in f:\n",
    "        dct = json.loads(l)\n",
    "        \n",
    "        # we will filter out all other languages except en\n",
    "        if not dct['lang'] == 'en':\n",
    "            continue\n",
    "\n",
    "        # avoid scheduled tweets\n",
    "        if dct['source'] not in [\"Twitter Web Client\", \"Twitter for iPhone\", \"Twitter for Android\"]:\n",
    "            continue\n",
    "\n",
    "        # also skip retweets ...\n",
    "        if dct['text'][:3] == 'RT ':\n",
    "            continue\n",
    "\n",
    "        # select only relevant 'columns'\n",
    "        outp = {\n",
    "          'created_at': dct['created_at'],\n",
    "          'text': dct['text']\n",
    "        }\n",
    "\n",
    "        # write out to jsonlines file\n",
    "        of.write(json.dumps(outp) + '\\n')"
   ]
  },
  {
   "cell_type": "markdown",
   "metadata": {
    "id": "ct80yDpN6Pub"
   },
   "source": [
    "## Volume\n",
    "\n",
    "First model-free analysis of the data at hand. Vizualizes the daily number of Tweets."
   ]
  },
  {
   "cell_type": "code",
   "execution_count": 111,
   "metadata": {
    "colab": {
     "base_uri": "https://localhost:8080/",
     "height": 173
    },
    "id": "o3CSDCEC6PFC",
    "outputId": "e57ce093-8c17-4cb5-9d79-0fdc244c4525"
   },
   "outputs": [
    {
     "data": {
      "text/html": [
       "\n",
       "  <div id=\"df-3dc868ad-8b8a-4dcf-9061-8797c93c536f\">\n",
       "    <div class=\"colab-df-container\">\n",
       "      <div>\n",
       "<style scoped>\n",
       "    .dataframe tbody tr th:only-of-type {\n",
       "        vertical-align: middle;\n",
       "    }\n",
       "\n",
       "    .dataframe tbody tr th {\n",
       "        vertical-align: top;\n",
       "    }\n",
       "\n",
       "    .dataframe thead th {\n",
       "        text-align: right;\n",
       "    }\n",
       "</style>\n",
       "<table border=\"1\" class=\"dataframe\">\n",
       "  <thead>\n",
       "    <tr style=\"text-align: right;\">\n",
       "      <th></th>\n",
       "      <th>text</th>\n",
       "    </tr>\n",
       "    <tr>\n",
       "      <th>created_at</th>\n",
       "      <th></th>\n",
       "    </tr>\n",
       "  </thead>\n",
       "  <tbody>\n",
       "    <tr>\n",
       "      <th>2018-08-03 23:57:12+00:00</th>\n",
       "      <td>Nike boyzzzzzzzzzzzz</td>\n",
       "    </tr>\n",
       "    <tr>\n",
       "      <th>2018-08-03 23:54:51+00:00</th>\n",
       "      <td>Guess Drake back on team Nike and I’m all for ...</td>\n",
       "    </tr>\n",
       "    <tr>\n",
       "      <th>2018-08-03 23:49:08+00:00</th>\n",
       "      <td>My mom said I have an addiction to adidas and ...</td>\n",
       "    </tr>\n",
       "  </tbody>\n",
       "</table>\n",
       "</div>\n",
       "      <button class=\"colab-df-convert\" onclick=\"convertToInteractive('df-3dc868ad-8b8a-4dcf-9061-8797c93c536f')\"\n",
       "              title=\"Convert this dataframe to an interactive table.\"\n",
       "              style=\"display:none;\">\n",
       "        \n",
       "  <svg xmlns=\"http://www.w3.org/2000/svg\" height=\"24px\"viewBox=\"0 0 24 24\"\n",
       "       width=\"24px\">\n",
       "    <path d=\"M0 0h24v24H0V0z\" fill=\"none\"/>\n",
       "    <path d=\"M18.56 5.44l.94 2.06.94-2.06 2.06-.94-2.06-.94-.94-2.06-.94 2.06-2.06.94zm-11 1L8.5 8.5l.94-2.06 2.06-.94-2.06-.94L8.5 2.5l-.94 2.06-2.06.94zm10 10l.94 2.06.94-2.06 2.06-.94-2.06-.94-.94-2.06-.94 2.06-2.06.94z\"/><path d=\"M17.41 7.96l-1.37-1.37c-.4-.4-.92-.59-1.43-.59-.52 0-1.04.2-1.43.59L10.3 9.45l-7.72 7.72c-.78.78-.78 2.05 0 2.83L4 21.41c.39.39.9.59 1.41.59.51 0 1.02-.2 1.41-.59l7.78-7.78 2.81-2.81c.8-.78.8-2.07 0-2.86zM5.41 20L4 18.59l7.72-7.72 1.47 1.35L5.41 20z\"/>\n",
       "  </svg>\n",
       "      </button>\n",
       "      \n",
       "  <style>\n",
       "    .colab-df-container {\n",
       "      display:flex;\n",
       "      flex-wrap:wrap;\n",
       "      gap: 12px;\n",
       "    }\n",
       "\n",
       "    .colab-df-convert {\n",
       "      background-color: #E8F0FE;\n",
       "      border: none;\n",
       "      border-radius: 50%;\n",
       "      cursor: pointer;\n",
       "      display: none;\n",
       "      fill: #1967D2;\n",
       "      height: 32px;\n",
       "      padding: 0 0 0 0;\n",
       "      width: 32px;\n",
       "    }\n",
       "\n",
       "    .colab-df-convert:hover {\n",
       "      background-color: #E2EBFA;\n",
       "      box-shadow: 0px 1px 2px rgba(60, 64, 67, 0.3), 0px 1px 3px 1px rgba(60, 64, 67, 0.15);\n",
       "      fill: #174EA6;\n",
       "    }\n",
       "\n",
       "    [theme=dark] .colab-df-convert {\n",
       "      background-color: #3B4455;\n",
       "      fill: #D2E3FC;\n",
       "    }\n",
       "\n",
       "    [theme=dark] .colab-df-convert:hover {\n",
       "      background-color: #434B5C;\n",
       "      box-shadow: 0px 1px 3px 1px rgba(0, 0, 0, 0.15);\n",
       "      filter: drop-shadow(0px 1px 2px rgba(0, 0, 0, 0.3));\n",
       "      fill: #FFFFFF;\n",
       "    }\n",
       "  </style>\n",
       "\n",
       "      <script>\n",
       "        const buttonEl =\n",
       "          document.querySelector('#df-3dc868ad-8b8a-4dcf-9061-8797c93c536f button.colab-df-convert');\n",
       "        buttonEl.style.display =\n",
       "          google.colab.kernel.accessAllowed ? 'block' : 'none';\n",
       "\n",
       "        async function convertToInteractive(key) {\n",
       "          const element = document.querySelector('#df-3dc868ad-8b8a-4dcf-9061-8797c93c536f');\n",
       "          const dataTable =\n",
       "            await google.colab.kernel.invokeFunction('convertToInteractive',\n",
       "                                                     [key], {});\n",
       "          if (!dataTable) return;\n",
       "\n",
       "          const docLinkHtml = 'Like what you see? Visit the ' +\n",
       "            '<a target=\"_blank\" href=https://colab.research.google.com/notebooks/data_table.ipynb>data table notebook</a>'\n",
       "            + ' to learn more about interactive tables.';\n",
       "          element.innerHTML = '';\n",
       "          dataTable['output_type'] = 'display_data';\n",
       "          await google.colab.output.renderOutput(dataTable, element);\n",
       "          const docLink = document.createElement('div');\n",
       "          docLink.innerHTML = docLinkHtml;\n",
       "          element.appendChild(docLink);\n",
       "        }\n",
       "      </script>\n",
       "    </div>\n",
       "  </div>\n",
       "  "
      ],
      "text/plain": [
       "                                                                        text\n",
       "created_at                                                                  \n",
       "2018-08-03 23:57:12+00:00                               Nike boyzzzzzzzzzzzz\n",
       "2018-08-03 23:54:51+00:00  Guess Drake back on team Nike and I’m all for ...\n",
       "2018-08-03 23:49:08+00:00  My mom said I have an addiction to adidas and ..."
      ]
     },
     "execution_count": 111,
     "metadata": {},
     "output_type": "execute_result"
    }
   ],
   "source": [
    "import pandas as pd \n",
    "\n",
    "df = pd.read_json(\n",
    "    # compression is automatically detected\n",
    "    # but we have to state that the format is \n",
    "    # line-wise json\n",
    "    './data/nike_tweets_rnd_filtered.jsonl.gz', lines = True\n",
    "    \n",
    "    # setting the date as column\n",
    "    # saves us some time later, because it\n",
    "    # makes it easier to group by this column\n",
    ").set_index('created_at')\n",
    "\n",
    "df.head(3)"
   ]
  },
  {
   "cell_type": "code",
   "execution_count": 119,
   "metadata": {
    "colab": {
     "base_uri": "https://localhost:8080/",
     "height": 332
    },
    "id": "1ggTWPpaK5X7",
    "outputId": "3bb67fee-cfc6-4778-d2d1-e2ae65449cb5"
   },
   "outputs": [
    {
     "data": {
      "text/plain": [
       "<matplotlib.axes._subplots.AxesSubplot at 0x7f46f66861d0>"
      ]
     },
     "execution_count": 119,
     "metadata": {},
     "output_type": "execute_result"
    },
    {
     "data": {
      "image/png": "[encoded data removed]",
      "text/plain": [
       "<Figure size 432x288 with 1 Axes>"
      ]
     },
     "metadata": {
      "needs_background": "light"
     },
     "output_type": "display_data"
    }
   ],
   "source": [
    "# the created_at column states the time\n",
    "# when the specific tweet was posted.\n",
    "# The grouper can be used to aggreagte it\n",
    "# on daily (D) or weekly (W) level\n",
    "df.groupby(pd.Grouper(freq='D')).count().plot()"
   ]
  },
  {
   "cell_type": "markdown",
   "metadata": {
    "id": "UtXxoQXW6M6Q"
   },
   "source": [
    "## Sentiment analysis"
   ]
  },
  {
   "cell_type": "code",
   "execution_count": null,
   "metadata": {
    "id": "OQi7G0qC6LZX"
   },
   "outputs": [],
   "source": [
    "# hugging face provides state of the art deep learning models\n",
    "# the package can be installed as follows\n",
    "!pip install transformers"
   ]
  },
  {
   "cell_type": "code",
   "execution_count": 50,
   "metadata": {
    "id": "AC8NpS-T6nfy"
   },
   "outputs": [],
   "source": [
    "from transformers import pipeline\n",
    "\n",
    "clf = pipeline(\n",
    "    # we want to carry out a sentiment-analysis task\n",
    "    'sentiment-analysis', \n",
    "\n",
    "    # sentiment model used for inference\n",
    "    # this is the default\n",
    "    model = 'distilbert-base-uncased-finetuned-sst-2-english',\n",
    "\n",
    "    # device=0: use GPU (check your runtime!);\n",
    "    # device=-1: use CPU (slower, but always available) \n",
    "    device=0, \n",
    "    \n",
    "    # defaults to return only the \"most-likely\" label\n",
    "    return_all_scores=True\n",
    ")"
   ]
  },
  {
   "cell_type": "code",
   "execution_count": 51,
   "metadata": {
    "colab": {
     "base_uri": "https://localhost:8080/"
    },
    "id": "BbG5QkUw7QK9",
    "outputId": "59171f41-b417-4ae1-9a47-6a4b9adcb3e1"
   },
   "outputs": [
    {
     "data": {
      "text/plain": [
       "[[{'label': 'NEGATIVE', 'score': 0.9995840191841125},\n",
       "  {'label': 'POSITIVE', 'score': 0.0004159855598118156}]]"
      ]
     },
     "execution_count": 51,
     "metadata": {},
     "output_type": "execute_result"
    }
   ],
   "source": [
    "clf('I hate it!')"
   ]
  },
  {
   "cell_type": "code",
   "execution_count": 64,
   "metadata": {
    "id": "gJDSn-gK7ZuH"
   },
   "outputs": [],
   "source": [
    "pos_score = lambda txt: clf(txt)[0][1]['score']\n",
    "pos_score('i love you')"
   ]
  },
  {
   "cell_type": "code",
   "execution_count": 67,
   "metadata": {
    "colab": {
     "base_uri": "https://localhost:8080/"
    },
    "id": "2YPUueYJDt2L",
    "outputId": "a9fd8b97-ddf1-4e93-ffe6-39d1f039ff7a"
   },
   "outputs": [
    {
     "name": "stderr",
     "output_type": "stream",
     "text": [
      "/usr/local/lib/python3.7/dist-packages/transformers/pipelines/base.py:998: UserWarning: You seem to be using the pipelines sequentially on GPU. In order to maximize efficiency please use a dataset\n",
      "  UserWarning,\n"
     ]
    },
    {
     "data": {
      "text/plain": [
       "0.0008870709571056068"
      ]
     },
     "execution_count": 67,
     "metadata": {},
     "output_type": "execute_result"
    }
   ],
   "source": [
    "pos_score('i hate you')"
   ]
  },
  {
   "cell_type": "code",
   "execution_count": 82,
   "metadata": {
    "colab": {
     "base_uri": "https://localhost:8080/"
    },
    "id": "FzzhI9lXED45",
    "outputId": "ca3eabd5-6731-4764-95fe-b17882ac2746"
   },
   "outputs": [
    {
     "name": "stderr",
     "output_type": "stream",
     "text": [
      "/usr/local/lib/python3.7/dist-packages/transformers/pipelines/base.py:998: UserWarning: You seem to be using the pipelines sequentially on GPU. In order to maximize efficiency please use a dataset\n",
      "  UserWarning,\n"
     ]
    }
   ],
   "source": [
    "df['pos_score'] = df.text.apply(pos_score)"
   ]
  },
  {
   "cell_type": "code",
   "execution_count": 84,
   "metadata": {
    "id": "6CoRoOKyJTHY"
   },
   "outputs": [],
   "source": [
    "df.to_json('nike_tweets_rnd_sentiment.jsonl.gz', lines=True, orient='records')"
   ]
  },
  {
   "cell_type": "markdown",
   "metadata": {
    "id": "_yxhbO_Y5ioC"
   },
   "source": [
    "# Analysing the data"
   ]
  },
  {
   "cell_type": "code",
   "execution_count": 122,
   "metadata": {
    "colab": {
     "base_uri": "https://localhost:8080/",
     "height": 235
    },
    "id": "evPOd5bD5k9w",
    "outputId": "234c60d5-ace0-44d9-ca71-e541a3b7f93c"
   },
   "outputs": [
    {
     "data": {
      "text/html": [
       "\n",
       "  <div id=\"df-01595961-9024-47e5-a63c-d206d091e043\">\n",
       "    <div class=\"colab-df-container\">\n",
       "      <div>\n",
       "<style scoped>\n",
       "    .dataframe tbody tr th:only-of-type {\n",
       "        vertical-align: middle;\n",
       "    }\n",
       "\n",
       "    .dataframe tbody tr th {\n",
       "        vertical-align: top;\n",
       "    }\n",
       "\n",
       "    .dataframe thead th {\n",
       "        text-align: right;\n",
       "    }\n",
       "</style>\n",
       "<table border=\"1\" class=\"dataframe\">\n",
       "  <thead>\n",
       "    <tr style=\"text-align: right;\">\n",
       "      <th></th>\n",
       "      <th>text</th>\n",
       "      <th>pos_score</th>\n",
       "    </tr>\n",
       "    <tr>\n",
       "      <th>created_at</th>\n",
       "      <th></th>\n",
       "      <th></th>\n",
       "    </tr>\n",
       "  </thead>\n",
       "  <tbody>\n",
       "    <tr>\n",
       "      <th>2018-08-03 23:57:12</th>\n",
       "      <td>Nike boyzzzzzzzzzzzz</td>\n",
       "      <td>0.006898</td>\n",
       "    </tr>\n",
       "    <tr>\n",
       "      <th>2018-08-03 23:54:51</th>\n",
       "      <td>Guess Drake back on team Nike and I’m all for ...</td>\n",
       "      <td>0.005539</td>\n",
       "    </tr>\n",
       "    <tr>\n",
       "      <th>2018-08-03 23:49:08</th>\n",
       "      <td>My mom said I have an addiction to adidas and ...</td>\n",
       "      <td>0.008323</td>\n",
       "    </tr>\n",
       "    <tr>\n",
       "      <th>2018-08-03 23:40:49</th>\n",
       "      <td>Nike Boyz</td>\n",
       "      <td>0.947375</td>\n",
       "    </tr>\n",
       "    <tr>\n",
       "      <th>2018-08-03 23:38:19</th>\n",
       "      <td>When Sol dresses kysen he's either wearing paj...</td>\n",
       "      <td>0.004370</td>\n",
       "    </tr>\n",
       "  </tbody>\n",
       "</table>\n",
       "</div>\n",
       "      <button class=\"colab-df-convert\" onclick=\"convertToInteractive('df-01595961-9024-47e5-a63c-d206d091e043')\"\n",
       "              title=\"Convert this dataframe to an interactive table.\"\n",
       "              style=\"display:none;\">\n",
       "        \n",
       "  <svg xmlns=\"http://www.w3.org/2000/svg\" height=\"24px\"viewBox=\"0 0 24 24\"\n",
       "       width=\"24px\">\n",
       "    <path d=\"M0 0h24v24H0V0z\" fill=\"none\"/>\n",
       "    <path d=\"M18.56 5.44l.94 2.06.94-2.06 2.06-.94-2.06-.94-.94-2.06-.94 2.06-2.06.94zm-11 1L8.5 8.5l.94-2.06 2.06-.94-2.06-.94L8.5 2.5l-.94 2.06-2.06.94zm10 10l.94 2.06.94-2.06 2.06-.94-2.06-.94-.94-2.06-.94 2.06-2.06.94z\"/><path d=\"M17.41 7.96l-1.37-1.37c-.4-.4-.92-.59-1.43-.59-.52 0-1.04.2-1.43.59L10.3 9.45l-7.72 7.72c-.78.78-.78 2.05 0 2.83L4 21.41c.39.39.9.59 1.41.59.51 0 1.02-.2 1.41-.59l7.78-7.78 2.81-2.81c.8-.78.8-2.07 0-2.86zM5.41 20L4 18.59l7.72-7.72 1.47 1.35L5.41 20z\"/>\n",
       "  </svg>\n",
       "      </button>\n",
       "      \n",
       "  <style>\n",
       "    .colab-df-container {\n",
       "      display:flex;\n",
       "      flex-wrap:wrap;\n",
       "      gap: 12px;\n",
       "    }\n",
       "\n",
       "    .colab-df-convert {\n",
       "      background-color: #E8F0FE;\n",
       "      border: none;\n",
       "      border-radius: 50%;\n",
       "      cursor: pointer;\n",
       "      display: none;\n",
       "      fill: #1967D2;\n",
       "      height: 32px;\n",
       "      padding: 0 0 0 0;\n",
       "      width: 32px;\n",
       "    }\n",
       "\n",
       "    .colab-df-convert:hover {\n",
       "      background-color: #E2EBFA;\n",
       "      box-shadow: 0px 1px 2px rgba(60, 64, 67, 0.3), 0px 1px 3px 1px rgba(60, 64, 67, 0.15);\n",
       "      fill: #174EA6;\n",
       "    }\n",
       "\n",
       "    [theme=dark] .colab-df-convert {\n",
       "      background-color: #3B4455;\n",
       "      fill: #D2E3FC;\n",
       "    }\n",
       "\n",
       "    [theme=dark] .colab-df-convert:hover {\n",
       "      background-color: #434B5C;\n",
       "      box-shadow: 0px 1px 3px 1px rgba(0, 0, 0, 0.15);\n",
       "      filter: drop-shadow(0px 1px 2px rgba(0, 0, 0, 0.3));\n",
       "      fill: #FFFFFF;\n",
       "    }\n",
       "  </style>\n",
       "\n",
       "      <script>\n",
       "        const buttonEl =\n",
       "          document.querySelector('#df-01595961-9024-47e5-a63c-d206d091e043 button.colab-df-convert');\n",
       "        buttonEl.style.display =\n",
       "          google.colab.kernel.accessAllowed ? 'block' : 'none';\n",
       "\n",
       "        async function convertToInteractive(key) {\n",
       "          const element = document.querySelector('#df-01595961-9024-47e5-a63c-d206d091e043');\n",
       "          const dataTable =\n",
       "            await google.colab.kernel.invokeFunction('convertToInteractive',\n",
       "                                                     [key], {});\n",
       "          if (!dataTable) return;\n",
       "\n",
       "          const docLinkHtml = 'Like what you see? Visit the ' +\n",
       "            '<a target=\"_blank\" href=https://colab.research.google.com/notebooks/data_table.ipynb>data table notebook</a>'\n",
       "            + ' to learn more about interactive tables.';\n",
       "          element.innerHTML = '';\n",
       "          dataTable['output_type'] = 'display_data';\n",
       "          await google.colab.output.renderOutput(dataTable, element);\n",
       "          const docLink = document.createElement('div');\n",
       "          docLink.innerHTML = docLinkHtml;\n",
       "          element.appendChild(docLink);\n",
       "        }\n",
       "      </script>\n",
       "    </div>\n",
       "  </div>\n",
       "  "
      ],
      "text/plain": [
       "                                                                  text  \\\n",
       "created_at                                                               \n",
       "2018-08-03 23:57:12                               Nike boyzzzzzzzzzzzz   \n",
       "2018-08-03 23:54:51  Guess Drake back on team Nike and I’m all for ...   \n",
       "2018-08-03 23:49:08  My mom said I have an addiction to adidas and ...   \n",
       "2018-08-03 23:40:49                                          Nike Boyz   \n",
       "2018-08-03 23:38:19  When Sol dresses kysen he's either wearing paj...   \n",
       "\n",
       "                     pos_score  \n",
       "created_at                      \n",
       "2018-08-03 23:57:12   0.006898  \n",
       "2018-08-03 23:54:51   0.005539  \n",
       "2018-08-03 23:49:08   0.008323  \n",
       "2018-08-03 23:40:49   0.947375  \n",
       "2018-08-03 23:38:19   0.004370  "
      ]
     },
     "execution_count": 122,
     "metadata": {},
     "output_type": "execute_result"
    }
   ],
   "source": [
    "import pandas as pd\n",
    "\n",
    "df = pd.read_json(\n",
    "    './data/nike_tweets_rnd_sentiment.jsonl.gz', lines=True\n",
    ").set_index('created_at')\n",
    "\n",
    "df.head(5)"
   ]
  },
  {
   "cell_type": "code",
   "execution_count": 1,
   "metadata": {
    "colab": {
     "base_uri": "https://localhost:8080/",
     "height": 332
    },
    "id": "jcnFAnZeBBBb",
    "outputId": "bdd9a982-cbff-4a2a-9f80-8d03ebd53ea6"
   },
   "outputs": [
    {
     "ename": "NameError",
     "evalue": "name 'df' is not defined",
     "output_type": "error",
     "traceback": [
      "\u001b[0;31m---------------------------------------------------------------------------\u001b[0m",
      "\u001b[0;31mNameError\u001b[0m                                 Traceback (most recent call last)",
      "Input \u001b[0;32mIn [1]\u001b[0m, in \u001b[0;36m<cell line: 1>\u001b[0;34m()\u001b[0m\n\u001b[0;32m----> 1\u001b[0m \u001b[43mdf\u001b[49m\u001b[38;5;241m.\u001b[39mgroupby(pd\u001b[38;5;241m.\u001b[39mGrouper(freq\u001b[38;5;241m=\u001b[39m\u001b[38;5;124m'\u001b[39m\u001b[38;5;124mD\u001b[39m\u001b[38;5;124m'\u001b[39m))\u001b[38;5;241m.\u001b[39mpos_score\u001b[38;5;241m.\u001b[39mmedian()\u001b[38;5;241m.\u001b[39mplot()\n",
      "\u001b[0;31mNameError\u001b[0m: name 'df' is not defined"
     ]
    }
   ],
   "source": [
    "df.groupby(pd.Grouper(freq='D')).pos_score.median().plot()"
   ]
  }
 ],
 "metadata": {
  "accelerator": "GPU",
  "colab": {
   "collapsed_sections": [],
   "name": "UNSW_Workshop.ipynb",
   "provenance": []
  },
  "kernelspec": {
   "display_name": "Python 3 (ipykernel)",
   "language": "python",
   "name": "python3"
  },
  "language_info": {
   "codemirror_mode": {
    "name": "ipython",
    "version": 3
   },
   "file_extension": ".py",
   "mimetype": "text/x-python",
   "name": "python",
   "nbconvert_exporter": "python",
   "pygments_lexer": "ipython3",
   "version": "3.9.12"
  }
 },
 "nbformat": 4,
 "nbformat_minor": 4
}
