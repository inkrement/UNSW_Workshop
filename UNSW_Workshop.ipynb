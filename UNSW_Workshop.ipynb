{
 "cells": [
  {
   "cell_type": "markdown",
   "metadata": {},
   "source": [
    "# UNSW Workshop on Sentiment Analysis\n",
    "\n",
    "May, 2022 by Christian Hotz-Behofsits\n",
    "\n",
    "Topics:\n",
    "\n",
    " - Google Colab (e.g., open file from GitHub, change Runtime)\n",
    " - Online/offline processing\n",
    " - Sentiment Analysis (Classification/Positivity)\n",
    " - Workflow: (1) always save intermediate results (2) use code versioning (e.g., GitHub) and (3) comment your own code"
   ]
  },
  {
   "cell_type": "markdown",
   "metadata": {},
   "source": [
    "## Download files\n",
    "\n",
    "The following code creates a folder named _data_ and downloads our already loaded tweets."
   ]
  },
  {
   "cell_type": "code",
   "execution_count": null,
   "metadata": {},
   "outputs": [],
   "source": [
    "%%bash\n",
    "mkdir data\n",
    "wget \"https://dl.dropboxusercontent.com/s/js3wdmxkjbqku56/nike_tweets_rnd.jsonl.gz?dl=0\" -O ./data/nike_tweets_rnd.jsonl.gz"
   ]
  },
  {
   "cell_type": "markdown",
   "metadata": {
    "id": "E0bDGnCk3_CG"
   },
   "source": [
    "## Filter Tweets\n",
    "\n",
    "Online algorithm (= process tweets chunkwise) to filter Tweets. Such an procedure can be scaled to medium-sized data sets spanning billions of rows."
   ]
  },
  {
   "cell_type": "code",
   "execution_count": 4,
   "metadata": {
    "id": "38uPwMXwlia5"
   },
   "outputs": [],
   "source": [
    "import json\n",
    "import gzip\n",
    "\n",
    "with gzip.open('./data/nike_tweets_rnd_filtered.jsonl.gz', 'wt') as of:\n",
    "    with gzip.open('./data/nike_tweets_rnd.jsonl.gz', 'rt') as f:\n",
    "        for l in f:\n",
    "            dct = json.loads(l)\n",
    "\n",
    "            # we will filter out all other languages except en\n",
    "            if not dct['lang'] == 'en':\n",
    "                continue\n",
    "\n",
    "            # avoid scheduled tweets\n",
    "            if dct['source'] not in [\"Twitter Web Client\", \"Twitter for iPhone\", \"Twitter for Android\"]:\n",
    "                continue\n",
    "\n",
    "            # also skip retweets ...\n",
    "            if dct['text'][:3] == 'RT ':\n",
    "                continue\n",
    "\n",
    "            # select only relevant 'columns'\n",
    "            outp = {\n",
    "              'created_at': dct['created_at'],\n",
    "              'text': dct['text']\n",
    "            }\n",
    "\n",
    "            # write out to jsonlines file\n",
    "            of.write(json.dumps(outp) + '\\n')"
   ]
  },
  {
   "cell_type": "markdown",
   "metadata": {
    "id": "ct80yDpN6Pub"
   },
   "source": [
    "## Volume\n",
    "\n",
    "First model-free analysis of the data at hand. Vizualizes the daily number of Tweets."
   ]
  },
  {
   "cell_type": "code",
   "execution_count": 5,
   "metadata": {
    "colab": {
     "base_uri": "https://localhost:8080/",
     "height": 173
    },
    "id": "o3CSDCEC6PFC",
    "outputId": "e57ce093-8c17-4cb5-9d79-0fdc244c4525"
   },
   "outputs": [
    {
     "data": {
      "text/html": [
       "<div>\n",
       "<style scoped>\n",
       "    .dataframe tbody tr th:only-of-type {\n",
       "        vertical-align: middle;\n",
       "    }\n",
       "\n",
       "    .dataframe tbody tr th {\n",
       "        vertical-align: top;\n",
       "    }\n",
       "\n",
       "    .dataframe thead th {\n",
       "        text-align: right;\n",
       "    }\n",
       "</style>\n",
       "<table border=\"1\" class=\"dataframe\">\n",
       "  <thead>\n",
       "    <tr style=\"text-align: right;\">\n",
       "      <th></th>\n",
       "      <th>text</th>\n",
       "    </tr>\n",
       "    <tr>\n",
       "      <th>created_at</th>\n",
       "      <th></th>\n",
       "    </tr>\n",
       "  </thead>\n",
       "  <tbody>\n",
       "    <tr>\n",
       "      <th>2018-08-03 23:57:12+00:00</th>\n",
       "      <td>Nike boyzzzzzzzzzzzz</td>\n",
       "    </tr>\n",
       "    <tr>\n",
       "      <th>2018-08-03 23:54:51+00:00</th>\n",
       "      <td>Guess Drake back on team Nike and I’m all for ...</td>\n",
       "    </tr>\n",
       "    <tr>\n",
       "      <th>2018-08-03 23:49:08+00:00</th>\n",
       "      <td>My mom said I have an addiction to adidas and ...</td>\n",
       "    </tr>\n",
       "  </tbody>\n",
       "</table>\n",
       "</div>"
      ],
      "text/plain": [
       "                                                                        text\n",
       "created_at                                                                  \n",
       "2018-08-03 23:57:12+00:00                               Nike boyzzzzzzzzzzzz\n",
       "2018-08-03 23:54:51+00:00  Guess Drake back on team Nike and I’m all for ...\n",
       "2018-08-03 23:49:08+00:00  My mom said I have an addiction to adidas and ..."
      ]
     },
     "execution_count": 5,
     "metadata": {},
     "output_type": "execute_result"
    }
   ],
   "source": [
    "import pandas as pd \n",
    "\n",
    "df = pd.read_json(\n",
    "    # compression is automatically detected\n",
    "    # but we have to state that the format is \n",
    "    # line-wise json\n",
    "    './data/nike_tweets_rnd_filtered.jsonl.gz', lines = True\n",
    "    \n",
    "    # setting the date as column\n",
    "    # saves us some time later, because it\n",
    "    # makes it easier to group by this column\n",
    ").set_index('created_at')\n",
    "\n",
    "df.head(3)"
   ]
  },
  {
   "cell_type": "code",
   "execution_count": 6,
   "metadata": {
    "colab": {
     "base_uri": "https://localhost:8080/",
     "height": 332
    },
    "id": "1ggTWPpaK5X7",
    "outputId": "3bb67fee-cfc6-4778-d2d1-e2ae65449cb5"
   },
   "outputs": [
    {
     "data": {
      "text/plain": [
       "<AxesSubplot:xlabel='created_at'>"
      ]
     },
     "execution_count": 6,
     "metadata": {},
     "output_type": "execute_result"
    },
    {
     "data": {
      "image/png": "[encoded data removed]",
      "text/plain": [
       "<Figure size 432x288 with 1 Axes>"
      ]
     },
     "metadata": {
      "needs_background": "light"
     },
     "output_type": "display_data"
    }
   ],
   "source": [
    "# the created_at column states the time\n",
    "# when the specific tweet was posted.\n",
    "# The grouper can be used to aggreagte it\n",
    "# on daily (D) or weekly (W) level\n",
    "df.groupby(pd.Grouper(freq='D')).count().plot()"
   ]
  },
  {
   "cell_type": "markdown",
   "metadata": {
    "id": "UtXxoQXW6M6Q"
   },
   "source": [
    "## Sentiment analysis"
   ]
  },
  {
   "cell_type": "code",
   "execution_count": null,
   "metadata": {
    "id": "OQi7G0qC6LZX"
   },
   "outputs": [],
   "source": [
    "# hugging face provides state of the art deep learning models\n",
    "# the package can be installed as follows\n",
    "!pip install transformers"
   ]
  },
  {
   "cell_type": "code",
   "execution_count": 8,
   "metadata": {
    "id": "AC8NpS-T6nfy"
   },
   "outputs": [],
   "source": [
    "from transformers import pipeline\n",
    "\n",
    "clf = pipeline(\n",
    "    # we want to carry out a sentiment-analysis task\n",
    "    'sentiment-analysis', \n",
    "\n",
    "    # sentiment model used for inference\n",
    "    # this is the default\n",
    "    model = 'distilbert-base-uncased-finetuned-sst-2-english',\n",
    "\n",
    "    # device=0: use GPU (check your runtime!);\n",
    "    # device=-1: use CPU (slower, but always available) \n",
    "    device=0, \n",
    "    \n",
    "    # defaults to return only the \"most-likely\" label\n",
    "    return_all_scores=True\n",
    ")"
   ]
  },
  {
   "cell_type": "code",
   "execution_count": 9,
   "metadata": {
    "colab": {
     "base_uri": "https://localhost:8080/"
    },
    "id": "BbG5QkUw7QK9",
    "outputId": "59171f41-b417-4ae1-9a47-6a4b9adcb3e1"
   },
   "outputs": [
    {
     "data": {
      "text/plain": [
       "[[{'label': 'NEGATIVE', 'score': 0.9995840191841125},\n",
       "  {'label': 'POSITIVE', 'score': 0.0004159875970799476}]]"
      ]
     },
     "execution_count": 9,
     "metadata": {},
     "output_type": "execute_result"
    }
   ],
   "source": [
    "#it's a lie... but\n",
    "clf('I hate pizza!')"
   ]
  },
  {
   "cell_type": "code",
   "execution_count": 10,
   "metadata": {
    "id": "gJDSn-gK7ZuH"
   },
   "outputs": [
    {
     "data": {
      "text/plain": [
       "0.9998656511306763"
      ]
     },
     "execution_count": 10,
     "metadata": {},
     "output_type": "execute_result"
    }
   ],
   "source": [
    "pos_score = lambda txt: clf(txt)[0][1]['score']\n",
    "pos_score('i love you')"
   ]
  },
  {
   "cell_type": "code",
   "execution_count": 11,
   "metadata": {
    "colab": {
     "base_uri": "https://localhost:8080/"
    },
    "id": "2YPUueYJDt2L",
    "outputId": "a9fd8b97-ddf1-4e93-ffe6-39d1f039ff7a"
   },
   "outputs": [
    {
     "data": {
      "text/plain": [
       "0.0008870700839906931"
      ]
     },
     "execution_count": 11,
     "metadata": {},
     "output_type": "execute_result"
    }
   ],
   "source": [
    "pos_score('i hate you')"
   ]
  },
  {
   "cell_type": "code",
   "execution_count": null,
   "metadata": {
    "colab": {
     "base_uri": "https://localhost:8080/"
    },
    "id": "FzzhI9lXED45",
    "outputId": "ca3eabd5-6731-4764-95fe-b17882ac2746"
   },
   "outputs": [],
   "source": [
    "# the following two lines provide us a convenient way to visualize \n",
    "# the progress when applying a method on a lot of data ...\n",
    "from tqdm.auto import tqdm\n",
    "tqdm.pandas()\n",
    "\n",
    "df['pos_score'] = df.text.progress_apply(pos_score)"
   ]
  },
  {
   "cell_type": "code",
   "execution_count": null,
   "metadata": {
    "id": "6CoRoOKyJTHY"
   },
   "outputs": [],
   "source": [
    "df.to_json('nike_tweets_rnd_sentiment.jsonl.gz', lines=True, orient='records')"
   ]
  },
  {
   "cell_type": "markdown",
   "metadata": {
    "id": "_yxhbO_Y5ioC"
   },
   "source": [
    "# Analysing the data"
   ]
  },
  {
   "cell_type": "code",
   "execution_count": null,
   "metadata": {
    "colab": {
     "base_uri": "https://localhost:8080/",
     "height": 235
    },
    "id": "evPOd5bD5k9w",
    "outputId": "234c60d5-ace0-44d9-ca71-e541a3b7f93c"
   },
   "outputs": [],
   "source": [
    "import pandas as pd\n",
    "\n",
    "df = pd.read_json(\n",
    "    './data/nike_tweets_rnd_sentiment.jsonl.gz', lines=True\n",
    ").set_index('created_at')\n",
    "\n",
    "df.head(5)"
   ]
  },
  {
   "cell_type": "code",
   "execution_count": null,
   "metadata": {
    "colab": {
     "base_uri": "https://localhost:8080/",
     "height": 332
    },
    "id": "jcnFAnZeBBBb",
    "outputId": "bdd9a982-cbff-4a2a-9f80-8d03ebd53ea6"
   },
   "outputs": [],
   "source": [
    "df.groupby(pd.Grouper(freq='D')).pos_score.median().plot()"
   ]
  }
 ],
 "metadata": {
  "accelerator": "GPU",
  "colab": {
   "collapsed_sections": [],
   "name": "UNSW_Workshop.ipynb",
   "provenance": []
  },
  "kernelspec": {
   "display_name": "Python 3 (ipykernel)",
   "language": "python",
   "name": "python3"
  },
  "language_info": {
   "codemirror_mode": {
    "name": "ipython",
    "version": 3
   },
   "file_extension": ".py",
   "mimetype": "text/x-python",
   "name": "python",
   "nbconvert_exporter": "python",
   "pygments_lexer": "ipython3",
   "version": "3.9.12"
  }
 },
 "nbformat": 4,
 "nbformat_minor": 4
}
